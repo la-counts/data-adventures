{
  "nbformat": 4,
  "nbformat_minor": 0,
  "metadata": {
    "colab": {
      "name": "Instructable 6: How to Map Geographic Data Using Coordinates",
      "version": "0.3.2",
      "provenance": [],
      "collapsed_sections": []
    },
    "kernelspec": {
      "name": "python3",
      "display_name": "Python 3"
    }
  },
  "cells": [
    {
      "cell_type": "markdown",
      "metadata": {
        "id": "H9ae-1_V7T3h",
        "colab_type": "text"
      },
      "source": [
        "![alt text](http://www.civictechs.com/wp-content/uploads/2019/06/instruct7.jpg)\n",
        "\n",
        "# How to Map Geographic Data  from a CSV File\n",
        "\n",
        "---\n",
        "\n"
      ]
    },
    {
      "cell_type": "markdown",
      "metadata": {
        "id": "TuYYxrnr7m6J",
        "colab_type": "text"
      },
      "source": [
        "Everyone who uses a smartphone knows about location tracking. When you hail a Lyft or ask Google Maps for directions, your smartphone uses your GPS (Global Positioning System) location. Data analyses can also use location data to help you better understand what is going on in a particular geographic area. For example, you could map all the taco stands in your neighborhood. Data visualization tools have steadily improved over the last decade. Thanks to a robust set of Python libraries, anyone can now create maps using geographic data! \n",
        "\n",
        "In this instructable, you'll map the location of every public elementary school in Los Angeles. You could be interested in simply understanding where the schools are, or have a larger project related to community health that involves location. \n",
        "\n",
        "There are several data formats for geographic data. Here, we use a simple form of geographic data – latitude and longitude coordinates – to create a map using Plotly and Mapbox. To do this, we will use the same Plotly library in Python, alongside the integration of Mapbox. This same code will work with any dataset that includes latitude and logitude coordinates. \n",
        "\n",
        "While programming experience helps for this instructable, it is not required.* (Please see our [first](https://colab.research.google.com/drive/1102rYgCZMWIPa0HdezbiiEx-t5Ikct0s#scrollTo=bu7i1hbHvGzW) and [second](https://colab.research.google.com/drive/1QKoElHpzqC0wf7T4oBFbZ4QQXgXRSXMr#scrollTo=w4D-Jd8tgvBQ) instructables for information on the tools used in this exercise, and the [final](https://colab.research.google.com/drive/1NyiS1KsojrsGxBSf5zxeil-M4R_ffD-2#scrollTo=l6t7XEUgDGZY) instructable for information on APIs)*\n",
        "\n",
        "\n",
        "# Step 1: Gather and Understand Ingredients Used in This Notebook\n",
        "\n",
        "\n",
        "*  A CSV dataset from LA Counts. In this exercise we will use a dataset for [the location of Public Elementary Schools](https://www.lacounts.org/dataset/public-elementary-schools-1). We selected the file on Public High Schools because it has fields for latitude (e.g. -117.827398057505) and longitude (e.g. 34.6407299663179). These columns may be labeled differently in other files – like X and Y. Regardless of their label, the values should be a similar format to the numbers above. The metadata in this file includes a contact name as well, which is helpful if we have a question about its contents. \n",
        "*  A Jupyter Notebook like this one, hosted on [Google's colab.](http://colab.research.google.com/) \n",
        "*   Free Python Libraries ([numpy](http://www.numpy.org/), [pandas](https://pandas.pydata.org/), and [plotly](https://plot.ly/python/)), and [Mapbox](https://www.mapbox.com/). These are accessible within Jupyter Notebooks, so you don't need to download them. \n",
        "*   Your smarts! 🧠 "
      ]
    },
    {
      "cell_type": "markdown",
      "metadata": {
        "id": "OvHuHJO7IdS-",
        "colab_type": "text"
      },
      "source": [
        "# Step 2: Load and Show Data as a Table\n",
        "\n",
        "The first step is to load the geographic data into this Jupyter Notebook. A Jupyter Notebook is an open-source application that runs in your web browser. It can contain sections of live code, data visualizations, and text. \n",
        "\n",
        "1. Register for a Plotly account at https://plot.ly/feed – click on “sign up.” \n",
        "2. Generate an API key at https://plot.ly/settings/api – copy and paste the “API Key” and “Username” fields to the Jupyter Notebook in the appropriate place. \n",
        "3. Press the \"play\" button in the upper-left code window below to run the code. "
      ]
    },
    {
      "cell_type": "code",
      "metadata": {
        "id": "iUvFzycYKCJF",
        "colab_type": "code",
        "outputId": "9e43a094-a620-4cda-f03f-8e8de2cb6267",
        "colab": {
          "base_uri": "https://localhost:8080/",
          "height": 3102
        }
      },
      "source": [
        "import plotly.plotly as py\n",
        "import plotly.figure_factory as ff\n",
        "import plotly.tools as tl\n",
        "import pandas as pd\n",
        "\n",
        "data = pd.read_csv(\"http://geohub.lacity.org/datasets/259473fbb4b34ff182581f411fe4c918_49.csv\")\n",
        "\n",
        "# 2. Register for a Plotly account at https://plot.ly/feed – click on “sign up.” \n",
        "# 3. Generate an API key at https://plot.ly/settings/api – copy and paste the “API Key” and “Username” fields to the Jupyter Notebook in the appropriate place. \n",
        "\n",
        "tl.set_credentials_file(username='aschrock', api_key='CWwy1WgujKrPK4Z1J0Oh')\n",
        "\n",
        "# 4. The below code selects columns 0 (\"X\", or longitude), 1 (\"Y\", or latitude), and 9 (\"Name\"), which we will use as label. \n",
        "# We'll only print the first 100 lines, since this is a big dataset! \n",
        "\n",
        "newdata = data.iloc[0:100, [0,1,9]]\n",
        "\n",
        "table = ff.create_table(newdata)\n",
        "py.iplot(table, filename='Los Angeles Public School Locations')"
      ],
      "execution_count": 0,
      "outputs": [
        {
          "output_type": "execute_result",
          "data": {
            "text/html": [
              "<iframe id=\"igraph\" scrolling=\"no\" style=\"border:none;\" seamless=\"seamless\" src=\"https://plot.ly/~aschrock/26.embed\" height=\"3080px\" width=\"100%\"></iframe>"
            ],
            "text/plain": [
              "<plotly.tools.PlotlyDisplay object>"
            ]
          },
          "metadata": {
            "tags": []
          },
          "execution_count": 1
        }
      ]
    },
    {
      "cell_type": "markdown",
      "metadata": {
        "id": "tj0L36TmVL29",
        "colab_type": "text"
      },
      "source": [
        "# Step 3: Visualize Schools on Maps \n",
        "\n",
        "Okay, our data is looking good! We have our latitude and longitude data in two columns, Y and X, respectively. We also have labels for the names of the schools in a different column. Now that we have loaded our CSV file, we can create a map using the Mapbox API: \n",
        "\n",
        "1. Register for a Mapbox account at https://account.mapbox.com/auth/signup/ \n",
        "2. Generate an API key at https://account.mapbox.com/ – copy and paste the “default public token\" to the space below, along with the Plotly username and API key from above. "
      ]
    },
    {
      "cell_type": "code",
      "metadata": {
        "id": "sxb7cAsfVNuY",
        "colab_type": "code",
        "outputId": "31588fd5-cbb2-4242-a7df-9aedc53d52a4",
        "colab": {
          "base_uri": "https://localhost:8080/",
          "height": 547
        }
      },
      "source": [
        "import plotly.plotly as py\n",
        "import plotly.tools as tl\n",
        "import plotly.graph_objs as go\n",
        "import pandas as pd\n",
        "\n",
        "# Change API key for Plotly \n",
        "\n",
        "tl.set_credentials_file(username='aschrock', api_key='CWwy1WgujKrPK4Z1J0Oh')\n",
        "\n",
        "# Add Mapbox access token here \n",
        "\n",
        "mapbox_access_token = 'pk.eyJ1IjoiYXNjaHJvY2siLCJhIjoiY2p2NnRoeHc2MDkxbTQ0bnR6aTVwZDNsaCJ9.MA76hkxD3rOGgnVCDBVC9w'\n",
        "\n",
        "df = pd.read_csv('http://geohub.lacity.org/datasets/259473fbb4b34ff182581f411fe4c918_49.csv')\n",
        "\n",
        "# Save latitude and longitude as variables. In this dataset, the X column is longitude and the Y column is latitude. \n",
        "\n",
        "site_lat = df.Y\n",
        "site_lon = df.X\n",
        "locations_name = df.Name\n",
        "\n",
        "# Generate the data for the map \n",
        "\n",
        "data = [\n",
        "    go.Scattermapbox(\n",
        "        lat=site_lat,\n",
        "        lon=site_lon,\n",
        "        mode='markers',\n",
        "        marker=dict(\n",
        "            size=3,\n",
        "            color='rgb(255, 0, 0)',\n",
        "            opacity=1\n",
        "        ),\n",
        "        text=locations_name,\n",
        "        hoverinfo='text'\n",
        "    ),\n",
        "    go.Scattermapbox(\n",
        "        lat=site_lat,\n",
        "        lon=site_lon,\n",
        "        mode='markers',\n",
        "        marker=dict(\n",
        "            size=8,\n",
        "            color='rgb(242, 177, 172)',\n",
        "            opacity=0.8\n",
        "        ),\n",
        "        hoverinfo='none'\n",
        "    )]\n",
        "\n",
        "\n",
        "# Generate a layout around Los Angeles, zoomed in so we can see the data points \n",
        "\n",
        "layout = go.Layout(\n",
        "    title='LA Public Schools',\n",
        "    autosize=True,\n",
        "    hovermode='closest',\n",
        "    showlegend=False,\n",
        "    mapbox=dict(\n",
        "        accesstoken=mapbox_access_token,\n",
        "        bearing=0,\n",
        "        center=dict(\n",
        "            lat=34.0537,\n",
        "            lon=-118.2427\n",
        "        ),\n",
        "        pitch=0,\n",
        "        zoom=10,\n",
        "        style='light'\n",
        "    ),\n",
        ")\n",
        "\t\n",
        "# Generate the figure using the iplot function \n",
        "  \n",
        "fig = dict(data=data, layout=layout)\n",
        "py.iplot(fig, filename='Los Angeles Public Elementary Schools')"
      ],
      "execution_count": 0,
      "outputs": [
        {
          "output_type": "execute_result",
          "data": {
            "text/html": [
              "<iframe id=\"igraph\" scrolling=\"no\" style=\"border:none;\" seamless=\"seamless\" src=\"https://plot.ly/~aschrock/28.embed\" height=\"525px\" width=\"100%\"></iframe>"
            ],
            "text/plain": [
              "<plotly.tools.PlotlyDisplay object>"
            ]
          },
          "metadata": {
            "tags": []
          },
          "execution_count": 8
        }
      ]
    },
    {
      "cell_type": "markdown",
      "metadata": {
        "id": "mEYQvdGJXS89",
        "colab_type": "text"
      },
      "source": [
        "# Step 4: What next?\n",
        "\n",
        "Congratulations, you just learned how to map data using geographic coordinates! Here are some things you might do next: \n",
        "\n",
        "* Does geographic region influence funding? You could locate data on funding for each school, then use Mapbox change the color or size of points based on their per student funding. \n",
        "* Are you curious about creating different types of maps? Go to [https://www.mapbox.com/gallery/](https://www.mapbox.com/gallery/) and look around. \n",
        "* You could map only a portion of the points by filtering them! \n",
        "* Is there a school near you that you haven't been to? You could stop by and learn more about it. \n",
        "\n",
        "Have fun with your data analysis, and come back for the [next instructable](https://colab.research.google.com/drive/1G5GQRtiNI8oxx6TKlP757nHEDn_NLDm0#scrollTo=03mqgxaU3EZX)! "
      ]
    }
  ]
}