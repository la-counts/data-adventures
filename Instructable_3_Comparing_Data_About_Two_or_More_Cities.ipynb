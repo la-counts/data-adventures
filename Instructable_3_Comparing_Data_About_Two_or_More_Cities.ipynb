{
  "nbformat": 4,
  "nbformat_minor": 0,
  "metadata": {
    "colab": {
      "name": "Instructable 3: Comparing Data About Two or More Cities ",
      "version": "0.3.2",
      "provenance": [],
      "collapsed_sections": []
    },
    "kernelspec": {
      "name": "python3",
      "display_name": "Python 3"
    }
  },
  "cells": [
    {
      "cell_type": "markdown",
      "metadata": {
        "id": "dm4spYsxaYA-",
        "colab_type": "text"
      },
      "source": [
        "![alt text](http://www.civictechs.com/wp-content/uploads/2019/06/instruct4.jpg)\n",
        "\n",
        "# Comparing Data About Two or More Cities \n",
        "\n",
        "---\n"
      ]
    },
    {
      "cell_type": "markdown",
      "metadata": {
        "id": "fFOilag76af9",
        "colab_type": "text"
      },
      "source": [
        "This guide is for novice users interested in analyzing data that varies based on the city. Organizations, LA County, and city governments collect all sorts of city data, from [animals in shelters](https://www.lacounts.org/dataset/animal-services-intake-data) to [the number of students on free or reduced lunch](https://www.lacounts.org/dataset/public-school-students-enrolled-eligible-for-free-and-reduced-priced-meals-frpm-2017-18/resource/1ddc42f6-a7e0-467d-9744-e8c911f9b4d2). \n",
        "\n",
        "While programming experience helps for this instructable, it is not required.* (Please see our [first](https://colab.research.google.com/drive/1102rYgCZMWIPa0HdezbiiEx-t5Ikct0s#scrollTo=bu7i1hbHvGzW) and [second](https://colab.research.google.com/drive/1QKoElHpzqC0wf7T4oBFbZ4QQXgXRSXMr#scrollTo=w4D-Jd8tgvBQ) instructables for information on the tools used in this exercise, and the [final](https://colab.research.google.com/drive/1NyiS1KsojrsGxBSf5zxeil-M4R_ffD-2#scrollTo=l6t7XEUgDGZY) instructable for information on APIs)*\n",
        "\n",
        "Say you are curious about the number of Internet hotspots and public computers in cities, like in the library above! Does Alhambra have more free wireless hotspots than Long Beach? To answer this question, you'll need a convenient way to compare and graph counts of public wifi hotspots in multiple cities. In this guide, you'll learn how to compare [access to public internet hotspots](http://geohub.lacity.org/datasets/c493f3d44e97482e90ce9355019b1349_104.csv) in different cities in LA County. Once you learn how to do this, you can also use this same technique to analyze similar types of datasets. \n",
        "\n",
        "**Ingredients Used in This Notebook ** \n",
        "\n",
        "*  A dataset from [LA Counts](http://geohub.lacity.org/datasets/c493f3d44e97482e90ce9355019b1349_104.csv) on locations for public internet access. When you open the CSV file (see our last instructable for how to view and clean CSV files), you'll see columns similar to the below image. Remembering the last guide, does the data look clean, complete, and consistent? It does! We also selected this file because it was recently updated, is in CSV format, and has a field for different cities. \n",
        "*  A Jupyter Notebook like this one, hosted on [Google's colab.](http://colab.research.google.com/) \n",
        "*   Free Python Libraries ([numpy](http://www.numpy.org/), [pandas](https://pandas.pydata.org/), and [plotly](https://plot.ly/python/)). These are accessible within Jupyter Notebooks, so you don't need to download them. \n",
        "*   Your smarts! "
      ]
    },
    {
      "cell_type": "markdown",
      "metadata": {
        "id": "iYJW3uqIeASA",
        "colab_type": "text"
      },
      "source": [
        "# Step 1: Look at the Data \n",
        "\n",
        "The first step in analyzing data is always to look at the data in spreadsheet format. You can do this using the built-in program Numbers on Macintosh OSX, Microsoft Excelt, or Python. If there is metadata associated with the file, it might help you make sense of what the columns mean. \n",
        "\n",
        "What are the columns in this file telling you? You can see that each hotspot has a name, city and state. We will shortly use Python code to count the number of rows wireless hotspots for each city. To do this, we will need to remember the location of the hotspot name (column 9, or \"J\" in Excel) and city (column 12, or \"M\" in Excel). \n",
        "\n",
        "![alt text](http://www.civictechs.com/wp-content/uploads/2019/04/2-1-small.png)\n",
        "\n",
        "If you haven't done so, 1. Sign up for a [plot.ly account](https://plot.ly/Auth/login/?action=signup#/). 2. Then locate your API key at [this page](https://plot.ly/settings/api). Paste your username and api_key below. \n",
        "\n",
        "Remembering the columns we are interested in we discovered above, let's print a table of just the name and city using the plotly library using Python code: "
      ]
    },
    {
      "cell_type": "code",
      "metadata": {
        "id": "t4HvmonLM9Xt",
        "colab_type": "code",
        "outputId": "2caa4f76-ef04-4d7f-9ce3-51ab44b841ed",
        "colab": {
          "base_uri": "https://localhost:8080/",
          "height": 6522
        }
      },
      "source": [
        "import plotly.plotly as py\n",
        "import plotly.figure_factory as ff\n",
        "import plotly.tools as tl\n",
        "import pandas as pd\n",
        "\n",
        "df = pd.read_csv(\"http://geohub.lacity.org/datasets/c493f3d44e97482e90ce9355019b1349_104.csv\")\n",
        "\n",
        "# 1. Register for a Plot.ly account at https://plot.ly/feed – click on “sign up.” \n",
        "# 2. Generate an API key at https://plot.ly/settings/api – copy and paste the “API Key” and “Username” fields to the Jupyter Notebook in the appropriate place. \n",
        "\n",
        "tl.set_credentials_file(username='aschrock', api_key='CWwy1WgujKrPK4Z1J0Oh')\n",
        "\n",
        "# The below code uses iloc (see: https://www.shanelynn.ie/select-pandas-dataframe-rows-and-columns-using-iloc-loc-and-ix/) \n",
        "# to select all the rows from columns 9 & 12 in the dataset to save in a new dataframe and then display in a table. \n",
        "\n",
        "newdf = df.iloc[:, [9,12]]\n",
        "\n",
        "table = ff.create_table(newdf)\n",
        "py.iplot(table, filename='Public Internet Hotspots')"
      ],
      "execution_count": 0,
      "outputs": [
        {
          "output_type": "execute_result",
          "data": {
            "text/html": [
              "<iframe id=\"igraph\" scrolling=\"no\" style=\"border:none;\" seamless=\"seamless\" src=\"https://plot.ly/~aschrock/16.embed\" height=\"6500px\" width=\"100%\"></iframe>"
            ],
            "text/plain": [
              "<plotly.tools.PlotlyDisplay object>"
            ]
          },
          "metadata": {
            "tags": []
          },
          "execution_count": 6
        }
      ]
    },
    {
      "cell_type": "markdown",
      "metadata": {
        "id": "Q53rOqTulW6T",
        "colab_type": "text"
      },
      "source": [
        "# Step 2: Add up the number of rows for each city\n",
        "\n",
        "Great, we've got data to analyze! Now that we have loaded our CSV file, we can use some simple Python code to count the number of WiFi hotspots in each city. Then we'll print out those numbers. Because so many cities have just one library, let's print out just the top ten: "
      ]
    },
    {
      "cell_type": "code",
      "metadata": {
        "id": "qo0J4fGpC4N2",
        "colab_type": "code",
        "outputId": "8f4feb6f-0166-49a9-f967-ba1250ae0b4e",
        "colab": {
          "base_uri": "https://localhost:8080/",
          "height": 208
        }
      },
      "source": [
        "# Create a varible with a new column 'Count' that sums the number of lines for each city's entry. \n",
        "\n",
        "df_wificount = newdf.groupby(['city']).size().reset_index(name='Count')\n",
        "\n",
        "# Next, sort the data frame based on 'Count' and limit to the ten cities with the most points. \n",
        "\n",
        "df_wificount = df_wificount.sort_values(by='Count', ascending=False).head(10)\n",
        "print(df_wificount)"
      ],
      "execution_count": 0,
      "outputs": [
        {
          "output_type": "stream",
          "text": [
            "              city  Count\n",
            "52     Los Angeles     64\n",
            "51      Long Beach     12\n",
            "109       Whittier      5\n",
            "100       Torrance      5\n",
            "75   Redondo Beach      3\n",
            "85   Santa Clarita      2\n",
            "92      South Gate      2\n",
            "27        El Monte      2\n",
            "29         Gardena      2\n",
            "34       Hawthorne      2\n"
          ],
          "name": "stdout"
        }
      ]
    },
    {
      "cell_type": "markdown",
      "metadata": {
        "id": "oqjrVdI_HNpJ",
        "colab_type": "text"
      },
      "source": [
        "# Step 3: Print a graph of the number of WiFi hotspots for each city\n",
        "\n",
        "The last step is to print out a bar graph of the number of WiFi hotspots for each city. As you can probably guess, the City of Los Angeles come out on top, since it has 4 million residents! "
      ]
    },
    {
      "cell_type": "code",
      "metadata": {
        "id": "RdjSIJfEOh9g",
        "colab_type": "code",
        "outputId": "a41a25d6-cf60-47f3-984d-2cc987fc8dfe",
        "colab": {
          "base_uri": "https://localhost:8080/",
          "height": 547
        }
      },
      "source": [
        "import plotly.plotly as py\n",
        "import plotly.graph_objs as go\n",
        "\n",
        "# The below code uses iloc (see: https://www.shanelynn.ie/select-pandas-dataframe-rows-and-columns-using-iloc-loc-and-ix/) \n",
        "# to select data in columns for \"city\" (X) and \"Count\" (number of access points). \n",
        "\n",
        "x = df_wificount.iloc[:, [0]]\n",
        "y = df_wificount.iloc[:, [1]]\n",
        "\n",
        "# Use plotly to create a bar graph of \"Count\" by \"City\". \n",
        "\n",
        "data = [go.Bar(\n",
        "            x=x,\n",
        "            y=y\n",
        "    )]\n",
        "\n",
        "# Display the bar graph. \n",
        "\n",
        "py.iplot(data, filename='basic-bar', title='WiFi Hotspots in LA County')\n",
        "\n"
      ],
      "execution_count": 0,
      "outputs": [
        {
          "output_type": "execute_result",
          "data": {
            "text/html": [
              "<iframe id=\"igraph\" scrolling=\"no\" style=\"border:none;\" seamless=\"seamless\" src=\"https://plot.ly/~aschrock/2.embed\" height=\"525px\" width=\"100%\"></iframe>"
            ],
            "text/plain": [
              "<plotly.tools.PlotlyDisplay object>"
            ]
          },
          "metadata": {
            "tags": []
          },
          "execution_count": 59
        }
      ]
    },
    {
      "cell_type": "markdown",
      "metadata": {
        "id": "1hJx9QqzWowP",
        "colab_type": "text"
      },
      "source": [
        "# Step 4: What next?\n",
        "\n",
        "You've just learned a lot about where the Internet is publicly available in Los Angeles County. Remember that data-driven insights often lead you to ask more questions about what the data represent. \n",
        "\n",
        "*   If you wanted to get more analytical, you might be interested in \"per capita\" WiFi hotspots, or how many hotspots per resident each city has. \n",
        "*   You could go back two steps and select the 'X' and 'Y' columns to map the location of public internet! (see a future instructable which will cover geomapping) \n",
        "\n",
        "Have fun with your data analysis, and come back for the [next instructable](https://colab.research.google.com/drive/1iuwoXt7R_GhlGzJR66anXe-JI5qHi9Yb#scrollTo=amE3naXCl7tE)! "
      ]
    }
  ]
}