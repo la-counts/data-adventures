{
  "nbformat": 4,
  "nbformat_minor": 0,
  "metadata": {
    "colab": {
      "name": "Instructable 4: How to Analyze Time-Based Data ",
      "version": "0.3.2",
      "provenance": [],
      "collapsed_sections": []
    },
    "kernelspec": {
      "name": "python3",
      "display_name": "Python 3"
    }
  },
  "cells": [
    {
      "cell_type": "markdown",
      "metadata": {
        "id": "dm4spYsxaYA-",
        "colab_type": "text"
      },
      "source": [
        "![alt text](http://www.civictechs.com/wp-content/uploads/2019/06/instruct5.jpg)\n",
        "\n",
        "# How to Analyze Time-Based Data \n",
        "\n",
        "---\n",
        "\n"
      ]
    },
    {
      "cell_type": "markdown",
      "metadata": {
        "id": "amE3naXCl7tE",
        "colab_type": "text"
      },
      "source": [
        "This guide is for novice users interested in analyzing data that varies based on the city. Organizations, LA County, and cities  collect a variety of **time-based** data. Time-based data has at least one column with a year, month, or day in it. In this example, we'll analyze a dataset on when Los Angeles artists created public projects – like the mural above. This gives us a better sense of the history of public art in the city, and barriers to its preservation. \n",
        "\n",
        "While programming experience helps for this instructable, it is not required.* (Please see our [first](https://colab.research.google.com/drive/1102rYgCZMWIPa0HdezbiiEx-t5Ikct0s#scrollTo=bu7i1hbHvGzW) and [second](https://colab.research.google.com/drive/1QKoElHpzqC0wf7T4oBFbZ4QQXgXRSXMr#scrollTo=w4D-Jd8tgvBQ) instructables for information on the tools used in this exercise, and the [final](https://colab.research.google.com/drive/1NyiS1KsojrsGxBSf5zxeil-M4R_ffD-2#scrollTo=l6t7XEUgDGZY) instructable for information on APIs)*\n",
        "\n",
        "# Step 1: Gather and Understand Ingredients Used in This Notebook\n",
        "\n",
        "\n",
        "*  A dataset from [LA Counts](https://data.lacounty.gov/api/views/9qv9-dayy/rows.csv) on public art in the City of Los Angeles. We selected this file because it is in CSV format and has a field for year. Your data set should look similar, although you may have a different format for time-based data, such as month and year or actual date (e.g. 03/01/2019 for March 1, 2019). \n",
        "*  A Jupyter Notebook like this one, hosted on [Google's colab.](http://colab.research.google.com/) \n",
        "*   Free Python Libraries ([numpy](http://www.numpy.org/), [pandas](https://pandas.pydata.org/), and [plotly](https://plot.ly/python/)). These are accessible within Jupyter Notebooks, so you don't need to download them. \n",
        "*   Your smarts! "
      ]
    },
    {
      "cell_type": "markdown",
      "metadata": {
        "id": "WiSDad5k2ZNT",
        "colab_type": "text"
      },
      "source": [
        "# Step 2: Load and Show Data as a Table\n",
        "\n",
        "The first step is to load data into this Jupyter Notebook. A Jupyter Notebook is an open-source application that runs in your web browser. It can contain sections of live code, data visualizations, and text. \n",
        "\n",
        "1. Register for a Plot.ly account at https://plot.ly/feed – click on “sign up.” \n",
        "2. Generate an API key at https://plot.ly/settings/api – copy and paste the “API Key” and “Username” fields to the Jupyter Notebook in the appropriate place. "
      ]
    },
    {
      "cell_type": "code",
      "metadata": {
        "id": "qYrRuDcD6ID1",
        "colab_type": "code",
        "outputId": "953c31be-0920-4944-88a2-0d9dd1a4af96",
        "colab": {
          "base_uri": "https://localhost:8080/",
          "height": 9762
        }
      },
      "source": [
        "import plotly.plotly as py\n",
        "import plotly.figure_factory as ff\n",
        "import plotly.tools as tl\n",
        "import pandas as pd\n",
        "\n",
        "data = pd.read_csv(\"https://data.lacounty.gov/api/views/9qv9-dayy/rows.csv\")\n",
        "\n",
        "# 2. Register for a Plot.ly account at https://plot.ly/feed – click on “sign up.” \n",
        "# 3. Generate an API key at https://plot.ly/settings/api – copy and paste the “API Key” and “Username” fields to the Jupyter Notebook in the appropriate place. \n",
        "\n",
        "tl.set_credentials_file(username='aschrock', api_key='CWwy1WgujKrPK4Z1J0Oh')\n",
        "\n",
        "# 4. The below code selects columns 0 (Artwork Title), 6 (Year Created), & 7 (Artwork Type) in the dataset to show in a table. \n",
        "\n",
        "newdata = data.iloc[:, [0,6,7]]\n",
        "\n",
        "table = ff.create_table(newdata)\n",
        "py.iplot(table, filename='Artwork in LA')"
      ],
      "execution_count": 0,
      "outputs": [
        {
          "output_type": "execute_result",
          "data": {
            "text/html": [
              "<iframe id=\"igraph\" scrolling=\"no\" style=\"border:none;\" seamless=\"seamless\" src=\"https://plot.ly/~aschrock/12.embed\" height=\"9740px\" width=\"100%\"></iframe>"
            ],
            "text/plain": [
              "<plotly.tools.PlotlyDisplay object>"
            ]
          },
          "metadata": {
            "tags": []
          },
          "execution_count": 2
        }
      ]
    },
    {
      "cell_type": "markdown",
      "metadata": {
        "id": "Q53rOqTulW6T",
        "colab_type": "text"
      },
      "source": [
        "# Step 3: Visualize a Variable Changing over Time \n",
        "\n",
        "Now that we have loaded our CSV file, we can create a chart using some simple Python code to show how different types of artwork (\"Artwork Type\") vary by \"Year Created\". "
      ]
    },
    {
      "cell_type": "code",
      "metadata": {
        "id": "qo0J4fGpC4N2",
        "colab_type": "code",
        "outputId": "4c168a70-3dce-4388-aef6-68905819fc44",
        "colab": {
          "base_uri": "https://localhost:8080/",
          "height": 547
        }
      },
      "source": [
        "import plotly.plotly as py\n",
        "import plotly.figure_factory as ff\n",
        "import plotly.tools as tl\n",
        "import pandas as pd\n",
        "import plotly.graph_objs as go\n",
        "\n",
        "# *** Change the URL in quotes below to your CSV file location *** \n",
        "\n",
        "data = pd.read_csv(\"https://data.lacounty.gov/api/views/9qv9-dayy/rows.csv\")\n",
        "\n",
        "# *** Change username and api_key to your own, found at https://plot.ly/settings/api \n",
        "\n",
        "tl.set_credentials_file(username='aschrock', api_key='CWwy1WgujKrPK4Z1J0Oh')\n",
        "\n",
        "# Remember column 6 is year of the artwork! \n",
        "\n",
        "x = data.iloc[:, 6]\n",
        "\n",
        "# Create the histogram using Plotly. \n",
        "\n",
        "data = [go.Histogram(x=x)]\n",
        "\n",
        "# Display the histogram on the screen. \n",
        "\n",
        "py.iplot(data, filename='Public Artwork in LA by Year')\n"
      ],
      "execution_count": 0,
      "outputs": [
        {
          "output_type": "execute_result",
          "data": {
            "text/html": [
              "<iframe id=\"igraph\" scrolling=\"no\" style=\"border:none;\" seamless=\"seamless\" src=\"https://plot.ly/~aschrock/14.embed\" height=\"525px\" width=\"100%\"></iframe>"
            ],
            "text/plain": [
              "<plotly.tools.PlotlyDisplay object>"
            ]
          },
          "metadata": {
            "tags": []
          },
          "execution_count": 38
        }
      ]
    },
    {
      "cell_type": "markdown",
      "metadata": {
        "id": "oqjrVdI_HNpJ",
        "colab_type": "text"
      },
      "source": [
        "**Step 4: What next? **\n",
        "\n",
        "After graphing the data, you've learned quite a bit about when public artworks in Los Angeles were created. \n",
        "\n",
        "*   You could create a map of where these public artworks are! Who has access to the arts in the city of Los Angeles? \n",
        "*   You might get curious about what the timeline does not show. Why do the years between 1945 and 1954 have no public artworks entered? \n",
        "*   You could overlay this dataset with another one to look at how funding of public artwork has changed over time. Is the spike in artwork starting in 2005 a result of greater funding for the arts? \n",
        "\n",
        "Have fun with your data analysis, and come back for the [next instructable](https://colab.research.google.com/drive/1wqICfSgtIzZU5RIbPY8m00LTMab8AL4t#scrollTo=TuYYxrnr7m6J)! "
      ]
    }
  ]
}