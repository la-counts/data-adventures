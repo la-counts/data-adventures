{
  "nbformat": 4,
  "nbformat_minor": 0,
  "metadata": {
    "colab": {
      "name": "Instructable 1: How to Find a Data Set",
      "version": "0.3.2",
      "provenance": [],
      "collapsed_sections": []
    },
    "kernelspec": {
      "name": "python3",
      "display_name": "Python 3"
    }
  },
  "cells": [
    {
      "cell_type": "markdown",
      "metadata": {
        "id": "_lO0uZRHjUWo",
        "colab_type": "text"
      },
      "source": [
        "![alt text](http://www.civictechs.com/wp-content/uploads/2019/04/LA-Counts-header.png)\n",
        "\n",
        "# How to Find a Data Set\n",
        "\n",
        "The first step in any data analysis is to find data you are interested in analyzing. Historically, it has been difficult to find data sets. Governments have tended to release data only when convenient, and even basic information about community health can be difficult to find. More recently, [LA Counts](http://lacounts.org/), an open data platform supported by the California Community Foundation, has made a wide range of data available for free. It is built on CKAN, an open-source data platform that makes finding and downloading data easy. \n",
        "\n",
        "In this instructable, we'll walk through how to search for and download data sets from the LA Counts website. "
      ]
    },
    {
      "cell_type": "markdown",
      "metadata": {
        "id": "bu7i1hbHvGzW",
        "colab_type": "text"
      },
      "source": [
        "# Step 1: Think about: what do you want to know? \n",
        "\n",
        "People analyze data for all kinds of reasons. Maybe you are a parent concerned about access to quality schools, a journalist writing a story about a recent event, or a community organizer interested in using data to get statistics for an upcoming grant submission. Perhaps you're just curious about learning more about what specific problems, like poor air quality, affect your neighborhood. In all of these cases, you're using data for advocating for social change. Think of a question like this – about education, immigration, or the environment – and move on to step 2. "
      ]
    },
    {
      "cell_type": "markdown",
      "metadata": {
        "id": "T-O7F5b6vPT2",
        "colab_type": "text"
      },
      "source": [
        "# Step 2: Searching for Data \n",
        "\n",
        "**If you have a specific idea of what you're looking for,** search for keywords in the search bar using a keyword (like \"elementary schools\"): \n",
        "\n",
        "![alt text](http://www.civictechs.com/wp-content/uploads/2019/04/search-bar.png)\n",
        "\n",
        "**If you have only a general idea,** start by navigating to [the \"Topics\" page of LA Counts](https://www.lacounts.org/topic) and selecting a topic that interests you: \n",
        "\n",
        "![alt text](http://www.civictechs.com/wp-content/uploads/2019/04/topics-page.png)\n",
        "\n",
        "Next, click on \"View all datasets\" to see a complete list of the relevant data sets. You can browse them by clicking on page numbers of search results, or the next page arrow (>>): \n",
        "\n",
        "![alt text](http://www.civictechs.com/wp-content/uploads/2019/04/Screenshot-2019-04-15-13.57.58.png)"
      ]
    },
    {
      "cell_type": "markdown",
      "metadata": {
        "id": "HqwGC6nKvUmd",
        "colab_type": "text"
      },
      "source": [
        "# Step 3: Evaluating your data \n",
        "\n",
        "Generally, you'll want to find data that is both \"fresh\" (recently updated), complete (has the columns you need to perform your analysis), and has the data you're looking for. After you complete your search, you will come across files in different **data formats**. Each of these files is formatted differently. Generally speaking, for most of these instructables, you will want to find a CSV file. A CSV file is often preferred for our analyses because it can be easily loaded and edited in many different programs. \n",
        "\n",
        "*   **CSV** – a \"Comma Separated Values\" text file. This is a text file format that uses commas to break apart data into rows and columns. You can open it with any text editor or Microsoft Excel. \n",
        "*   **JSON** – a [\"JavaScript Object Notation\" file](https://www.w3schools.com/js/js_json_intro.asp) for storing data that is both human-readable and \"lightweight\" (easy to transfer). \n",
        "*   **GEOJSON** – a JSON format for encoding geographic data.\n",
        "*  **KML** – a \"Keyhole Markup Language\" file for encoding geographic data that was originally developed for Google maps. \n",
        "*  **HTML** – A \"HyperText Markup Language\" file. Any web browser can open this type of file. \n",
        "\n",
        "Here is what it looks like when you find a **CSV file** on the LA Counts website: \n",
        "\n",
        "![alt text](http://www.civictechs.com/wp-content/uploads/2019/04/file-types-with-circle.jpg)"
      ]
    },
    {
      "cell_type": "markdown",
      "metadata": {
        "id": "qw8SJ_Oz3N6W",
        "colab_type": "text"
      },
      "source": [
        "# Step 4: Pick a type of data analysis \n",
        "\n",
        "Now that you have your data set, think about what type of analysis you're intersted in. \n",
        "\n",
        "* Is your data changing over time? Go to our instructable on [\"How to Analyze Time-Based Data\"](https://colab.research.google.com/drive/1iuwoXt7R_GhlGzJR66anXe-JI5qHi9Yb#scrollTo=amE3naXCl7tE)! \n",
        "* Are you comparing numbers in one column that vary by a category, like city? Go to our instructable on [\"Comparing Data about Two or More Cities\"](https://colab.research.google.com/drive/1G1mSsjMeVQmmPO2Wo0qr88Uy88n9_8ae#scrollTo=fFOilag76af9)! "
      ]
    }
  ]
}