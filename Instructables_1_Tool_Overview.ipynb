{
  "nbformat": 4,
  "nbformat_minor": 0,
  "metadata": {
    "colab": {
      "name": "Instructables 1: Tool Overview",
      "version": "0.3.2",
      "provenance": [],
      "collapsed_sections": [],
      "include_colab_link": true
    },
    "kernelspec": {
      "name": "python3",
      "display_name": "Python 3"
    }
  },
  "cells": [
    {
      "metadata": {
        "id": "4LNDiSt5Z91R",
        "colab_type": "text"
      },
      "cell_type": "markdown",
      "source": [
        "![alt text](https://imgs.xkcd.com/comics/python.png)\n",
        "\n",
        "# Coding in Python \n",
        "\n",
        "Welcome to an introduction to the tools we'll use in LA Counts data analysis guides! This introduction is for anyone interested in analyzing data and creating data visualizations. You won't need any special skills or programming experience, only a curiosity about using data for advocacy. We also will use only freely available tools so you can easily analyze your own data sets. "
      ]
    },
    {
      "metadata": {
        "id": "FgCHYOgLTuWg",
        "colab_type": "text"
      },
      "cell_type": "markdown",
      "source": [
        "# Hello, World \n",
        "\n",
        "You're reading this text in a [Jupyter Notebook](https://realpython.com/jupyter-notebook-introduction/) hosted by Google. Jupyter Notebooks are like a Google doc that can hold blocks of text, like the one you're reading. Other blocks have live code, like the block below. For example, when you press the \"play\" button below, the Python code in that section is executed. Python is a *scripted* programming language. Unlike programs on your computer that are run when you click on them, Python programs are run line by line. \n",
        "\n",
        "For example, The **code block** below executes a classic \"hello world\" program, which just stores a string to a variable (called variable) and then prints it out. \n",
        "\n",
        "If you want to learn more about Python, you can check out [\"Automate the Boring Stuff with Python\"](https://automatetheboringstuff.com/) – a free online textbook. But you don't need to be an expert programmer to use Python! All our guides will show you how to analyze data and generate graphs by just changing a few lines of code. \n",
        "\n",
        "In fact, you can change the code below right now! **Why don't you try editing the text in the quotes \"hello world\"? When you run the code again, you'll notice it prints out your new text! **"
      ]
    },
    {
      "metadata": {
        "id": "vtStm_mXXp-v",
        "colab_type": "code",
        "outputId": "27c4e1e2-9115-4e92-b338-25e8206f8a44",
        "colab": {
          "base_uri": "https://localhost:8080/",
          "height": 34
        }
      },
      "cell_type": "code",
      "source": [
        "variable = \"hello world\"\n",
        "print(variable)"
      ],
      "execution_count": 0,
      "outputs": [
        {
          "output_type": "stream",
          "text": [
            "hello world\n"
          ],
          "name": "stdout"
        }
      ]
    },
    {
      "metadata": {
        "id": "mhQtGM7ugNyn",
        "colab_type": "text"
      },
      "cell_type": "markdown",
      "source": [
        "Different code blocks also remember the variables you set in earlier code blocks in the same document. For example, if you wanted to print your variable out below, without setting the variable again, you could! The below code prints the string out twice, with a space between each: "
      ]
    },
    {
      "metadata": {
        "id": "aTe2AphEgki9",
        "colab_type": "code",
        "outputId": "c5d7b94b-88a0-4055-910e-b48973200579",
        "colab": {
          "base_uri": "https://localhost:8080/",
          "height": 34
        }
      },
      "cell_type": "code",
      "source": [
        "print(variable + \" \" + variable)"
      ],
      "execution_count": 0,
      "outputs": [
        {
          "output_type": "stream",
          "text": [
            "hello world hello world\n"
          ],
          "name": "stdout"
        }
      ]
    },
    {
      "metadata": {
        "id": "aeCJuHiTEewI",
        "colab_type": "text"
      },
      "cell_type": "markdown",
      "source": [
        "# Libraries\n",
        "\n",
        "One of Python's strengths is a strong open-source community that has created many free online libraries. A \"library\" lets Python do new things with code. Think about libraries like tricking out a car with a navigation system or a souped-up engine. Python uses different libraries to analyze data. \n",
        "\n",
        "*   **[Pandas](https://pandas.pydata.org/)** – a library for loading and analyzing data in arrays, similar to the rows and columns in an Excel spreadsheet. \n",
        "*   **[Matplotlib](https://matplotlib.org/)** – a popular library for creating 2-dimensional data visualizations. \n",
        "*  ** [Plot.ly](https://plot.ly/python/) ** – an open-source graphing library that helps you make interactive charts, like scatter plots, box plots, and histograms. \n",
        "\n",
        "You load libraries using the \"import\" statement in a block of code. Then you can access its functionality. Throughout this set of instructables, we will use this suite of libraries. If you want to modify these examples, you can just click on the code blocks and change the code, then run it! "
      ]
    },
    {
      "metadata": {
        "id": "w4D-Jd8tgvBQ",
        "colab_type": "text"
      },
      "cell_type": "markdown",
      "source": [
        "# So that's it! \n",
        "\n",
        "In this instructable, you've learned a little about the programming language Python, the integrated development environment of Jupyter Notebooks, and the libraries we'll be using to analyze data. From here, you may either want to read more about cleaning data, or jump right into one of our instructables for data analysis. "
      ]
    }
  ]
}
