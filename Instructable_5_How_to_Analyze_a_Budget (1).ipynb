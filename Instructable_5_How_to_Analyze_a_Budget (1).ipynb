{
  "nbformat": 4,
  "nbformat_minor": 0,
  "metadata": {
    "colab": {
      "name": "Instructable 5: How to Analyze a Budget",
      "version": "0.3.2",
      "provenance": [],
      "collapsed_sections": []
    },
    "kernelspec": {
      "name": "python3",
      "display_name": "Python 3"
    }
  },
  "cells": [
    {
      "cell_type": "markdown",
      "metadata": {
        "id": "H9ae-1_V7T3h",
        "colab_type": "text"
      },
      "source": [
        "![alt text](http://www.civictechs.com/wp-content/uploads/2019/06/instruct6.jpg)\n",
        "\n",
        "# How to Analyze a Budget \n",
        "\n",
        "---\n",
        "\n"
      ]
    },
    {
      "cell_type": "markdown",
      "metadata": {
        "id": "TuYYxrnr7m6J",
        "colab_type": "text"
      },
      "source": [
        "This guide is for anyone interested in analyzing budget data. Where does the money go? Residents often wonder how much the city spends on what types of goods and services. Typically budget datasets will have a column for type of expenditures, and a column for amount of money spent. Each row represents a different expenditure. For this exercise, we will use data from the Los Angeles City Controller, Ron Galperin, who has long been a thought leader in making data openly available to the public. We will be using the \"high-level\" version of the budget, which presents most expensive categories of expenditures. \n",
        "\n",
        "While programming experience helps for this instructable, it is not required.* (Please see our [first](https://colab.research.google.com/drive/1102rYgCZMWIPa0HdezbiiEx-t5Ikct0s#scrollTo=bu7i1hbHvGzW) and [second](https://colab.research.google.com/drive/1QKoElHpzqC0wf7T4oBFbZ4QQXgXRSXMr#scrollTo=w4D-Jd8tgvBQ) instructables for information on the tools used in this exercise, and the [final](https://colab.research.google.com/drive/1NyiS1KsojrsGxBSf5zxeil-M4R_ffD-2#scrollTo=l6t7XEUgDGZY) instructable for information on APIs)*\n",
        "\n",
        "\n",
        "# Step 1: Gather and Understand Ingredients Used in This Notebook\n",
        "\n",
        "\n",
        "*  A dataset from [LA Counts ](https://lacounts.org) that presents a high-level view of expenditures, such as the city's budget [City Budget Data](https://www.lacounts.org/dataset/open-budget-revenue-2010-2019). We selected this file because it has high-level summaries of expenditures. We can also tell from the \"provenance\" field that it is an official data set from the city of Los Angeles. There are other ways to view city expenditures, such as the [general fund revenue](https://www.lacounts.org/dataset/general-fund-revenue) data set. However, this data set is much larger because it contains line-item expenditures and has more fields than we need. \n",
        "*  A Jupyter Notebook like this one, hosted on [Google's colab.](http://colab.research.google.com/) \n",
        "*   Free Python Libraries ([numpy](http://www.numpy.org/), [pandas](https://pandas.pydata.org/), and [plotly](https://plot.ly/python/)). These are accessible within Jupyter Notebooks, so you don't need to download them. \n",
        "*   Your smarts! 🧠 "
      ]
    },
    {
      "cell_type": "markdown",
      "metadata": {
        "id": "ckbnEZpBGnfO",
        "colab_type": "text"
      },
      "source": [
        "*italicized text*# Step 2: Load and Show Data as a Table\n",
        "\n",
        "The first step is to load the budget data into this Jupyter Notebook. A Jupyter Notebook is an open-source application that runs in your web browser. It can contain sections of live code, data visualizations, and text. \n",
        "\n",
        "1. Register for a Plot.ly account at https://plot.ly/feed – click on “sign up.” \n",
        "2. Generate an API key at https://plot.ly/settings/api – copy and paste the “API Key” and “Username” fields to the Jupyter Notebook in the appropriate place. \n",
        "3. Press the \"play\" button in the upper-left code window below to run the code. "
      ]
    },
    {
      "cell_type": "code",
      "metadata": {
        "id": "WmA7pa1LGvQO",
        "colab_type": "code",
        "outputId": "0ffc2c57-a8cc-4ca8-816c-d3ab54760465",
        "colab": {
          "base_uri": "https://localhost:8080/",
          "height": 2232
        }
      },
      "source": [
        "import plotly.plotly as py\n",
        "import plotly.figure_factory as ff\n",
        "import plotly.tools as tl\n",
        "import pandas as pd\n",
        "\n",
        "data = pd.read_csv(\"https://data.lacity.org/api/views/ih6g-qkwz/rows.csv\")\n",
        "\n",
        "# 2. Register for a Plot.ly account at https://plot.ly/feed – click on “sign up.” \n",
        "# 3. Generate an API key at https://plot.ly/settings/api – copy and paste the “API Key” and “Username” fields to the Jupyter Notebook in the appropriate place. \n",
        "\n",
        "tl.set_credentials_file(username='aschrock', api_key='CWwy1WgujKrPK4Z1J0Oh')\n",
        "\n",
        "# 4. The below code uses the iloc method to select columns 0 (\"Revenue Source\"), 1 (\"Amount\" in dollars), and 4 (\"Fiscal Year Shorthand\") \n",
        "#    across the first 72 rows, which are for the current year of 2019. \n",
        "#    You can tell these are all for the year 2019 because they all have 2019 in the column \"Fiscal Year Shorthand.\"\n",
        "\n",
        "newdata = data.iloc[1:72, [0,1,4]]\n",
        "\n",
        "table = ff.create_table(newdata)\n",
        "py.iplot(table, filename='Los Angeles City Budget 2019')"
      ],
      "execution_count": 0,
      "outputs": [
        {
          "output_type": "execute_result",
          "data": {
            "text/html": [
              "<iframe id=\"igraph\" scrolling=\"no\" style=\"border:none;\" seamless=\"seamless\" src=\"https://plot.ly/~aschrock/20.embed\" height=\"2210px\" width=\"100%\"></iframe>"
            ],
            "text/plain": [
              "<plotly.tools.PlotlyDisplay object>"
            ]
          },
          "metadata": {
            "tags": []
          },
          "execution_count": 1
        }
      ]
    },
    {
      "cell_type": "markdown",
      "metadata": {
        "id": "tj0L36TmVL29",
        "colab_type": "text"
      },
      "source": [
        "# Step 3: Visualize Expenditures by Category \n",
        "\n",
        "Okay, our data is looking good! We have categories of expenditures, and how much was spent on each. Now that we have loaded our CSV file, we can create a pie chart using some simple Python code to graphically show the relative size of different budget items. A pie chart is an easy way to visually compare how much of each category comes out of the whole. They are useful for exploring datasets, and for including in presentations or reports. "
      ]
    },
    {
      "cell_type": "code",
      "metadata": {
        "id": "sxb7cAsfVNuY",
        "colab_type": "code",
        "outputId": "18c4b59d-15ae-4e13-ac2e-a81b8e5bfa5f",
        "colab": {
          "base_uri": "https://localhost:8080/",
          "height": 547
        }
      },
      "source": [
        "import plotly.plotly as py\n",
        "import plotly.figure_factory as ff\n",
        "import plotly.tools as tl\n",
        "import pandas as pd\n",
        "import plotly.graph_objs as go\n",
        "\n",
        "# *** Change the URL in quotes below to your CSV file location *** \n",
        "\n",
        "data = pd.read_csv(\"https://data.lacity.org/api/views/ih6g-qkwz/rows.csv\")\n",
        "\n",
        "# *** Change username and api_key to your own, found at https://plot.ly/settings/api \n",
        "\n",
        "tl.set_credentials_file(username='aschrock', api_key='CWwy1WgujKrPK4Z1J0Oh')\n",
        "\n",
        "# 4. The below code uses the iloc method to select columns 0 (\"Revenue Source\") and 1 (\"Amount\" in dollars). \n",
        "#    across the first 72 rows, which are for the current year of 2019. \n",
        "#    You can tell these are all for the year 2019 because they all have 2019 in the column \"Fiscal Year Shorthand.\"\n",
        "\n",
        "# Column 0 is the text label, so we save it as a new variable called labels \n",
        "\n",
        "labels = data.iloc[1:72, [0]]\n",
        "\n",
        "# Column 1 is the dollar amount (integer), so we save it as a new variable called values \n",
        "\n",
        "values = data.iloc[1:72, [1]]\n",
        "\n",
        "# Then we use Plotly to create a pie chart. \n",
        "\n",
        "data = [go.Pie(labels=labels, values=values)]\n",
        "\n",
        "# Display pie chart. \n",
        "\n",
        "py.iplot(data, filename='2019 LA City Budget')\n"
      ],
      "execution_count": 0,
      "outputs": [
        {
          "output_type": "execute_result",
          "data": {
            "text/html": [
              "<iframe id=\"igraph\" scrolling=\"no\" style=\"border:none;\" seamless=\"seamless\" src=\"https://plot.ly/~aschrock/22.embed\" height=\"525px\" width=\"100%\"></iframe>"
            ],
            "text/plain": [
              "<plotly.tools.PlotlyDisplay object>"
            ]
          },
          "metadata": {
            "tags": []
          },
          "execution_count": 2
        }
      ]
    },
    {
      "cell_type": "markdown",
      "metadata": {
        "id": "mEYQvdGJXS89",
        "colab_type": "text"
      },
      "source": [
        "# Step 4: What next? \n",
        "\n",
        "Congratulations, you've learned about how to analyze a city's budget! Here are some things you might do next: \n",
        "\n",
        "*   You could [turn to the news](https://www.latimes.com/local/lanow/la-me-ln-budget-2019-eric-garcetti-20190418-story.html) to learn more about what each of these budget items are. Where did they come from? Who voted on them? \n",
        "*   You might get curious about how these larger categories break down. Could you download and explore [the complete budget for the City of Los Angeles](https://www.lacounts.org/dataset/city-budget-and-expenditures), which captures more detailed descriptions of expenditures? \n",
        "*   You could compare different budget years. Have high-level budget items changed over time? Why might that be? \n",
        "\n",
        "Have fun with your data analysis, and come back for the [next instructable](https://colab.research.google.com/drive/1AeMYqU8iIuZAdj1dn5M3FGKIoe5aT0Wv#scrollTo=mEYQvdGJXS89)! "
      ]
    }
  ]
}