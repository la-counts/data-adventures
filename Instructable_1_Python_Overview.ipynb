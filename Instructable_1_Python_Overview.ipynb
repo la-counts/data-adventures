{
  "nbformat": 4,
  "nbformat_minor": 0,
  "metadata": {
    "colab": {
      "name": "Instructable 1: Python Overview",
      "version": "0.3.2",
      "provenance": [],
      "collapsed_sections": []
    },
    "kernelspec": {
      "name": "python3",
      "display_name": "Python 3"
    }
  },
  "cells": [
    {
      "cell_type": "markdown",
      "metadata": {
        "id": "4LNDiSt5Z91R",
        "colab_type": "text"
      },
      "source": [
        "![alt text](https://imgs.xkcd.com/comics/python.png)\n",
        "*Image credit: https://xkcd.com/*\n",
        "\n",
        "# Tools for Data Analysis \n",
        "\n",
        "Welcome to an introduction to the tools we'll use in LA Counts data instructables! This introduction is for anyone interested in analyzing data and creating data visualizations. You won't need any special skills or programming experience, only a curiosity about using data for advocacy. We also will use only freely available tools so you can easily analyze your own datasets. \n",
        "\n",
        "In these instructables we take a \"data science\" approach to analyzing data. This means we are interested in using software to extract social scientific insights. Some of the analyses you can do at the start might be familiar to you from working in Microsoft Excel. However, the difference with software is you can so do much more! Here are some things you'll learn to do with a data science perspective in these instructables: \n",
        "\n",
        "* Extract insights about your local neighborhood through data \n",
        "* Learn how to use data analyses to \n",
        "Analyze datasets using statistical techniques \n",
        "* Generate charts to use in reports and presentations "
      ]
    },
    {
      "cell_type": "markdown",
      "metadata": {
        "id": "Jsy-yKiMCzuM",
        "colab_type": "text"
      },
      "source": [
        "# What is Python? Why is it good for data science? \n",
        "\n",
        "Good Question! There are numerous programming languages out there. \n",
        "\n",
        "* Python is a *scripted* programming language. That means you can edit the code up to the point you execute it. \n",
        "* Python is a free programming language suitable for beginners. \n",
        "* Python is well-supported by an online community that has developed a range of libraries (or modules) for analyzing data. \n",
        "* For more information on Python, please see [the FAQ on python.org](https://docs.python.org/3/faq/general.html). "
      ]
    },
    {
      "cell_type": "code",
      "metadata": {
        "id": "k9pPUtxNrxLC",
        "colab_type": "code",
        "colab": {}
      },
      "source": [
        ""
      ],
      "execution_count": 0,
      "outputs": []
    },
    {
      "cell_type": "markdown",
      "metadata": {
        "id": "FgCHYOgLTuWg",
        "colab_type": "text"
      },
      "source": [
        "# Jupyter Notebooks\n",
        "\n",
        "You're reading this text in a [Jupyter Notebook](https://realpython.com/jupyter-notebook-introduction/). Jupyter Notebooks are like a Google doc that can hold blocks of text, like the one you're reading. Other blocks have code you can edit, like the one below this text block. For example, when you press the \"play\" button below, the Python code in that section is executed. \n",
        "\n",
        "The **code block** below executes a classic \"hello world\" program, which just stores a string to a variable (called variable) and then prints it out. Pretty cool, right? \n",
        "\n",
        "If you want to learn more about Python, you can check out [\"Automate the Boring Stuff with Python\"](https://automatetheboringstuff.com/) – a free online textbook. But you don't need to be an expert programmer to use Python! All our guides will show you how to analyze data and generate graphs by just changing a few lines of code. \n",
        "\n",
        "\"Hello, World\" is a classic first exercise in programming. All the code below does is print out the text between the quotes. If you want to modify these examples, you can just click on the code blocks and change the code, then run it! In fact, you can change the code below right now. **Why don't you try editing the text in the quotes \"hello world\"? When you run the code again, you'll notice it prints out your new text! **"
      ]
    },
    {
      "cell_type": "code",
      "metadata": {
        "id": "vtStm_mXXp-v",
        "colab_type": "code",
        "outputId": "d9ca02e0-991d-4ff3-b3d0-b63e4f949fe4",
        "colab": {
          "base_uri": "https://localhost:8080/",
          "height": 34
        }
      },
      "source": [
        "variable = \"hello world\"\n",
        "print(variable)"
      ],
      "execution_count": 0,
      "outputs": [
        {
          "output_type": "stream",
          "text": [
            "hello world\n"
          ],
          "name": "stdout"
        }
      ]
    },
    {
      "cell_type": "markdown",
      "metadata": {
        "id": "mhQtGM7ugNyn",
        "colab_type": "text"
      },
      "source": [
        "Different code blocks also remember the variables you set in earlier code blocks in the same document. For example, if you wanted to print your variable out below, without setting the variable again, you could! The below code prints the string out twice, with a space between each: "
      ]
    },
    {
      "cell_type": "code",
      "metadata": {
        "id": "aTe2AphEgki9",
        "colab_type": "code",
        "outputId": "c5d7b94b-88a0-4055-910e-b48973200579",
        "colab": {
          "base_uri": "https://localhost:8080/",
          "height": 34
        }
      },
      "source": [
        "print(variable + \" \" + variable)"
      ],
      "execution_count": 0,
      "outputs": [
        {
          "output_type": "stream",
          "text": [
            "hello world hello world\n"
          ],
          "name": "stdout"
        }
      ]
    },
    {
      "cell_type": "markdown",
      "metadata": {
        "id": "w4D-Jd8tgvBQ",
        "colab_type": "text"
      },
      "source": [
        "# So that's it! \n",
        "\n",
        "In this instructable, you've learned a little about the programming language Python, the integrated development environment (IDE) of Jupyter Notebooks, and the libraries we'll be using to analyze data. After you sign up for a plot.ly account, you may want to read our next instructable on finding a dataset, or jump right into one of our instructables for data analysis. "
      ]
    }
  ]
}