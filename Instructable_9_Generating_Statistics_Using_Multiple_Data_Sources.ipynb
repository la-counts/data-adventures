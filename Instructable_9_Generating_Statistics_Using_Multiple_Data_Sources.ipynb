{
  "nbformat": 4,
  "nbformat_minor": 0,
  "metadata": {
    "colab": {
      "name": "Instructable 9: Generating Statistics Using Multiple Data Sources",
      "version": "0.3.2",
      "provenance": [],
      "collapsed_sections": [],
      "include_colab_link": true
    },
    "kernelspec": {
      "name": "python3",
      "display_name": "Python 3"
    }
  },
  "cells": [
    {
      "cell_type": "markdown",
      "metadata": {
        "id": "view-in-github",
        "colab_type": "text"
      },
      "source": [
        "<a href=\"https://colab.research.google.com/github/la-counts/instructables/blob/master/Instructable_9_Generating_Statistics_Using_Multiple_Data_Sources.ipynb\" target=\"_parent\"><img src=\"https://colab.research.google.com/assets/colab-badge.svg\" alt=\"Open In Colab\"/></a>"
      ]
    },
    {
      "cell_type": "markdown",
      "metadata": {
        "id": "d5LLkWHajzb5",
        "colab_type": "text"
      },
      "source": [
        "![alt text](https://www.latimes.com/resizer/tggkBQhqHKLehMeQ09CdgyK03H0=/800x0/www.trbimg.com/img-5cfc3cb8/turbine/la-1560034486-1beza1b9ta-snap-image)\n",
        "\n",
        "# Generating Statistics Using Multiple Data Sources\n",
        "\n",
        "---"
      ]
    },
    {
      "cell_type": "markdown",
      "metadata": {
        "id": "WlbDYtGBkFFi",
        "colab_type": "text"
      },
      "source": [
        "Which council districts are shouldering a greater burden for managing the homeless crisis? Los Angeles County is in the midst of a [homelessness crisis](https://www.latimes.com/local/lanow/la-me-homeless-county-letter-20190608-story.html). The most recent count of people who lack reliable housing showed a statistically significant increase in many areas. In total, the number of people living in the streets [rose 12%](https://www.usatoday.com/story/news/nation/2019/06/04/los-angeles-homeless-population-up-12-amid-affordable-housing-crisis/1336734001/) to a total of 58,936. In 2018, voters passed Measure HHH, a $1.2 billion initiative to build houses. However, the burden for the crisis is not shared equally throughout the city. Certain neighborhoods and council districts have disproportionately more homeless than others. This presents a challenge for both budgeting and use of public space. \n",
        "\n",
        "While programming experience helps for this instructable, it is not required. *(Please see our first two instructables for information on the tools used in this exercise)*\n",
        "\n",
        "# Step 1: Gather and Understand Ingredients Used in This Notebook\n",
        "\n",
        "In this instructable we'll be using data from two data sets. Specifically, we will be cross-referencing a dataset on the 2018 homeless count with a dataset on the population of the different council districts. This will give us a better idea of the per-capita burden that the crisis is placing on certain areas. \n",
        "\n",
        "For this exercise, you will need: \n",
        "\n",
        "*  A CSV dataset from [LA Counts ](https://lacounts.org) that has two types of data you wish to compare. In this exercise we will use a dataset for the [2018 homeless count](https://www.lacounts.org/dataset/homeless-count-by-council-district-2018) and [Population of Council Districts](https://controllerdata.lacity.org/api/views/2ybs-mbdp/rows.csv), which contains demographic information about the council districts. \n",
        "*  A Jupyter Notebook like this one, hosted on [Google's colab.](http://colab.research.google.com/) \n",
        "*   Free Python Libraries ([numpy](http://www.numpy.org/) and [pandas](https://pandas.pydata.org/). These are accessible within Jupyter Notebooks, so you don't need to download them. \n",
        "*   Your smarts! 🧠 "
      ]
    },
    {
      "cell_type": "markdown",
      "metadata": {
        "id": "pEVuX2OtjRiH",
        "colab_type": "text"
      },
      "source": [
        "# Step 2: Load and Show Homeless Count Data as a Table \n",
        "\n",
        "The first step is to load data into this Jupyter Notebook. A Jupyter Notebook is an open-source application that runs in your web browser. It can contain sections of live code, data visualizations, and text. "
      ]
    },
    {
      "cell_type": "code",
      "metadata": {
        "id": "wwTYE2oSjfss",
        "colab_type": "code",
        "outputId": "35533bb5-2d23-4e58-9eed-78dfab22113e",
        "colab": {
          "base_uri": "https://localhost:8080/",
          "height": 206
        }
      },
      "source": [
        "import pandas as pd\n",
        "import numpy as np\n",
        "\n",
        "# This is the CSV file for the 2018 Q3 Homeless count from above. \n",
        "\n",
        "data1 = pd.read_csv(\"http://geohub.lacity.org/datasets/c8e6c2f2b6434c67a33a7b189f53f2b4_0.csv\")\n",
        "\n",
        "# 1. The below code uses the .loc method to select columns for CD (Council District) and total homeless (totPeople). \n",
        "\n",
        "newdata1 = data1.loc[:, ['CD','totPeople']]\n",
        "\n",
        "# 2. the \"head\" method prints out the first FIVE lines of the dataframe so you can see its rows & columns. \n",
        "# .head is a good way to get a feel for the type of data you're working with! \n",
        "\n",
        "newdata1.head() "
      ],
      "execution_count": 0,
      "outputs": [
        {
          "output_type": "execute_result",
          "data": {
            "text/html": [
              "<div>\n",
              "<style scoped>\n",
              "    .dataframe tbody tr th:only-of-type {\n",
              "        vertical-align: middle;\n",
              "    }\n",
              "\n",
              "    .dataframe tbody tr th {\n",
              "        vertical-align: top;\n",
              "    }\n",
              "\n",
              "    .dataframe thead th {\n",
              "        text-align: right;\n",
              "    }\n",
              "</style>\n",
              "<table border=\"1\" class=\"dataframe\">\n",
              "  <thead>\n",
              "    <tr style=\"text-align: right;\">\n",
              "      <th></th>\n",
              "      <th>CD</th>\n",
              "      <th>totPeople</th>\n",
              "    </tr>\n",
              "  </thead>\n",
              "  <tbody>\n",
              "    <tr>\n",
              "      <th>0</th>\n",
              "      <td>6</td>\n",
              "      <td>43.585</td>\n",
              "    </tr>\n",
              "    <tr>\n",
              "      <th>1</th>\n",
              "      <td>1</td>\n",
              "      <td>69.665</td>\n",
              "    </tr>\n",
              "    <tr>\n",
              "      <th>2</th>\n",
              "      <td>11</td>\n",
              "      <td>15.870</td>\n",
              "    </tr>\n",
              "    <tr>\n",
              "      <th>3</th>\n",
              "      <td>2</td>\n",
              "      <td>0.000</td>\n",
              "    </tr>\n",
              "    <tr>\n",
              "      <th>4</th>\n",
              "      <td>2</td>\n",
              "      <td>7.502</td>\n",
              "    </tr>\n",
              "  </tbody>\n",
              "</table>\n",
              "</div>"
            ],
            "text/plain": [
              "   CD  totPeople\n",
              "0   6     43.585\n",
              "1   1     69.665\n",
              "2  11     15.870\n",
              "3   2      0.000\n",
              "4   2      7.502"
            ]
          },
          "metadata": {
            "tags": []
          },
          "execution_count": 18
        }
      ]
    },
    {
      "cell_type": "markdown",
      "metadata": {
        "id": "lwDnK7zbmS5B",
        "colab_type": "text"
      },
      "source": [
        "# Step 3: Create Summary Data by District \n",
        "\n",
        "Remember that we want to create summaries of the total number of homeless people in each district. That is, we want to create a data frame with two columns: one for the district ('CD' above) and a second that counts all the data for each district ('totPeople' above). The below code does this and stores it in the new variable 'sumdata'. "
      ]
    },
    {
      "cell_type": "code",
      "metadata": {
        "id": "4zvcraJamz1m",
        "colab_type": "code",
        "outputId": "001b0d16-104b-4348-eacc-9d968341d6ab",
        "colab": {
          "base_uri": "https://localhost:8080/",
          "height": 312
        }
      },
      "source": [
        "# Use newdata1 dataframe created above, grouped by council district and added using .agg method. \n",
        "\n",
        "sumdata = newdata1.groupby(['CD'])['totPeople'].agg('sum')\n",
        "print(sumdata)"
      ],
      "execution_count": 0,
      "outputs": [
        {
          "output_type": "stream",
          "text": [
            "CD\n",
            "1     2335.467\n",
            "2     1221.844\n",
            "3      535.735\n",
            "4      630.993\n",
            "5      695.934\n",
            "6     2649.900\n",
            "7     1256.473\n",
            "8     1775.345\n",
            "9     2640.257\n",
            "10    1161.906\n",
            "11    1908.471\n",
            "12     591.596\n",
            "13    2744.496\n",
            "14    6806.621\n",
            "15    1511.797\n",
            "Name: totPeople, dtype: float64\n"
          ],
          "name": "stdout"
        }
      ]
    },
    {
      "cell_type": "markdown",
      "metadata": {
        "id": "rrpfKflFn4by",
        "colab_type": "text"
      },
      "source": [
        "# Step 4: Load and Show Total Council Area Populations \n",
        "\n",
        "Remember that our goal is to create a table with the number of counted homeless divided by the total number of residents. To do this, we need to retrieve the data set for the demographics of each council district. This data is calculated from the last United States Census. We are interested in two columns: 'council_district' – a number that represents the same council district as in the first file we downloaded above – and 'value' – the population for that council. Let's download that file and save it as a dataframe. "
      ]
    },
    {
      "cell_type": "code",
      "metadata": {
        "id": "d42HNzCIYrMF",
        "colab_type": "code",
        "outputId": "794f052e-ec97-436a-fbf8-0de83418f36e",
        "colab": {
          "base_uri": "https://localhost:8080/",
          "height": 206
        }
      },
      "source": [
        "data2 = pd.read_csv(\"https://controllerdata.lacity.org/api/views/2ybs-mbdp/rows.csv\")\n",
        "\n",
        "# 1. The below code uses the .loc method to select columns for council district (council_district) \n",
        "# and total population (value) and save them to a new variable newdata2. \n",
        "\n",
        "newdata2 = data2.loc[:, ['council_district','value']]\n",
        "\n",
        "# 2. We will also need to rename the council_district to 'CD' so it matches up with our first dataframe. \n",
        "\n",
        "newdata2 = newdata2.rename(index=str, columns={\"council_district\": \"CD\"})\n",
        "\n",
        "\n",
        "# 3. the \"head\" method prints out the first FIVE lines of the dataframe so you can see its rows & columns. \n",
        "# .head is a good way to get a feel for the type of data you're working with! \n",
        "\n",
        "newdata2.head() "
      ],
      "execution_count": 0,
      "outputs": [
        {
          "output_type": "execute_result",
          "data": {
            "text/html": [
              "<div>\n",
              "<style scoped>\n",
              "    .dataframe tbody tr th:only-of-type {\n",
              "        vertical-align: middle;\n",
              "    }\n",
              "\n",
              "    .dataframe tbody tr th {\n",
              "        vertical-align: top;\n",
              "    }\n",
              "\n",
              "    .dataframe thead th {\n",
              "        text-align: right;\n",
              "    }\n",
              "</style>\n",
              "<table border=\"1\" class=\"dataframe\">\n",
              "  <thead>\n",
              "    <tr style=\"text-align: right;\">\n",
              "      <th></th>\n",
              "      <th>CD</th>\n",
              "      <th>value</th>\n",
              "    </tr>\n",
              "  </thead>\n",
              "  <tbody>\n",
              "    <tr>\n",
              "      <th>0</th>\n",
              "      <td>1</td>\n",
              "      <td>236931.84</td>\n",
              "    </tr>\n",
              "    <tr>\n",
              "      <th>1</th>\n",
              "      <td>10</td>\n",
              "      <td>244936.64</td>\n",
              "    </tr>\n",
              "    <tr>\n",
              "      <th>2</th>\n",
              "      <td>11</td>\n",
              "      <td>289385.25</td>\n",
              "    </tr>\n",
              "    <tr>\n",
              "      <th>3</th>\n",
              "      <td>12</td>\n",
              "      <td>284395.28</td>\n",
              "    </tr>\n",
              "    <tr>\n",
              "      <th>4</th>\n",
              "      <td>13</td>\n",
              "      <td>252322.31</td>\n",
              "    </tr>\n",
              "  </tbody>\n",
              "</table>\n",
              "</div>"
            ],
            "text/plain": [
              "   CD      value\n",
              "0   1  236931.84\n",
              "1  10  244936.64\n",
              "2  11  289385.25\n",
              "3  12  284395.28\n",
              "4  13  252322.31"
            ]
          },
          "metadata": {
            "tags": []
          },
          "execution_count": 29
        }
      ]
    },
    {
      "cell_type": "markdown",
      "metadata": {
        "id": "q2MAYk1mZzcN",
        "colab_type": "text"
      },
      "source": [
        "# Step 5: Divide Homeless Totals by Total Council Area Populations \n",
        "\n",
        "Okay, great! We have one dataframe (sumdata) with each council district number and homeless counts, and a second dataframe (newdata2) with each council district and total district area populations. The next step is to divide the homeless counts by the total population to get an idea of the burden on each council district. To do this, we will first merge the datasets. Then, for each council district, calculate a column to our first dataframe that represents the total population divided by the homeless count. This gives us a value that represents how many residents with homes live in this area for each homeless person. "
      ]
    },
    {
      "cell_type": "code",
      "metadata": {
        "id": "TC96HutrefDo",
        "colab_type": "code",
        "outputId": "c14518e3-3981-493f-da97-41a415914030",
        "colab": {
          "base_uri": "https://localhost:8080/",
          "height": 295
        }
      },
      "source": [
        "finaldata = pd.merge(sumdata, newdata2, how='inner', on=['CD'])\n",
        "finaldata['perCapita'] = np.divide(finaldata['value'], finaldata['totPeople'])\n",
        "print(finaldata)"
      ],
      "execution_count": 0,
      "outputs": [
        {
          "output_type": "stream",
          "text": [
            "    CD  totPeople      value   perCapita\n",
            "0    1   2335.467  236931.84  101.449449\n",
            "1    2   1221.844  252255.69  206.454908\n",
            "2    3    535.735  264356.25  493.445920\n",
            "3    4    630.993  248331.03  393.555919\n",
            "4    5    695.934  264851.94  380.570485\n",
            "5    6   2649.900  258000.39   97.362312\n",
            "6    7   1256.473  260029.70  206.952079\n",
            "7    8   1775.345  250221.55  140.942493\n",
            "8    9   2640.257  265957.03  100.731493\n",
            "9   10   1161.906  244936.64  210.805900\n",
            "10  11   1908.471  289385.25  151.631987\n",
            "11  12    591.596  284395.28  480.725495\n",
            "12  13   2744.496  252322.31   91.937576\n",
            "13  14   6806.621  236878.34   34.801165\n",
            "14  15   1511.797  275486.72  182.224677\n"
          ],
          "name": "stdout"
        }
      ]
    },
    {
      "cell_type": "markdown",
      "metadata": {
        "id": "9aDQKafDl5C5",
        "colab_type": "text"
      },
      "source": [
        "# Step 5: What next?\n",
        "\n",
        "Congratulations, you just learned how to analyze data across multiple data sets! From the above table, we can see that District 14 (Downtown and Boyle Heights, councilman Jose Huizar) is the most impacted – with nearly 35 residents for each homeless person. As should not come as a surprise, District 14 includes the high-density homeless area referred to as \"skid row.\" District 3 (the San Fernando Valley, councilman Bob Blumenfield) is the least impacted – with approximately 492 residents for each homeless person. Some questions you might ask from here include: \n",
        "\n",
        "* What are the underlying reasons why certain districts are more impacted than others? \n",
        "* How might you use this data to advocate for more attention to housing issues in Los Angeles? \n",
        "* Could you use this data to create a graph, like in [one of our earlier data instructables](https://colab.research.google.com/drive/1G1mSsjMeVQmmPO2Wo0qr88Uy88n9_8ae)? \n",
        "\n",
        "Have fun with your data analysis, and come back for the next instructable! "
      ]
    }
  ]
}